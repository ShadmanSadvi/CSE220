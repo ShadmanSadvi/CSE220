{
 "cells": [
  {
   "cell_type": "code",
   "execution_count": 11,
   "metadata": {},
   "outputs": [
    {
     "name": "stdout",
     "output_type": "stream",
     "text": [
      "[40, 50, 60, 0, 0, 0]\n"
     ]
    }
   ],
   "source": [
    "def shiftLeft(source, k):\n",
    "    index = len(source)\n",
    "    for i in range(index):\n",
    "        x = i-k\n",
    "        if x >= 0:\n",
    "            source[x] = source[i]\n",
    "    source_index = len(source) - k\n",
    "    for i in range(source_index, index):\n",
    "        source[i] = 0\n",
    "    print(source)\n",
    "\n",
    "source = [10,20,30,40,50, 60]\n",
    "shiftLeft(source,3)               "
   ]
  }
 ],
 "metadata": {
  "kernelspec": {
   "display_name": "Python 3.9.7 ('base')",
   "language": "python",
   "name": "python3"
  },
  "language_info": {
   "codemirror_mode": {
    "name": "ipython",
    "version": 3
   },
   "file_extension": ".py",
   "mimetype": "text/x-python",
   "name": "python",
   "nbconvert_exporter": "python",
   "pygments_lexer": "ipython3",
   "version": "3.9.7"
  },
  "orig_nbformat": 4,
  "vscode": {
   "interpreter": {
    "hash": "be5e72e99da49e27160b8ed4de15fdacbdf90d4d335946f4fb88d161726f6f10"
   }
  }
 },
 "nbformat": 4,
 "nbformat_minor": 2
}
