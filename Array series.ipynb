{
 "cells": [
  {
   "cell_type": "code",
   "execution_count": 1,
   "metadata": {},
   "outputs": [
    {
     "name": "stdout",
     "output_type": "stream",
     "text": [
      "False\n",
      "True\n",
      "True\n",
      "True\n",
      "True\n"
     ]
    }
   ],
   "source": [
    "def array_series(n):\n",
    "    source[0] * n * n\n",
    "    a = len(source) - 1\n",
    "    d = n\n",
    "    for x in range(n):\n",
    "        while c > -1:\n",
    "            if b < d:\n",
    "                source[c] = b\n",
    "                b += 1\n",
    "            c -= 1\n",
    "        a -= n\n",
    "        c = a\n",
    "        b = 1\n",
    "        d -= 1\n",
    "    print(source)\n",
    "array_series"
   ]
  }
 ],
 "metadata": {
  "kernelspec": {
   "display_name": "Python 3.10.2 64-bit",
   "language": "python",
   "name": "python3"
  },
  "language_info": {
   "codemirror_mode": {
    "name": "ipython",
    "version": 3
   },
   "file_extension": ".py",
   "mimetype": "text/x-python",
   "name": "python",
   "nbconvert_exporter": "python",
   "pygments_lexer": "ipython3",
   "version": "3.10.2"
  },
  "orig_nbformat": 4,
  "vscode": {
   "interpreter": {
    "hash": "85ea0ae677054c53cf21e68d261330ab66c6f14429a2f0a735acb351c04ea425"
   }
  }
 },
 "nbformat": 4,
 "nbformat_minor": 2
}
