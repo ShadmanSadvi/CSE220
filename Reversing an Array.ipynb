{
 "cells": [
  {
   "cell_type": "code",
   "execution_count": 2,
   "metadata": {},
   "outputs": [
    {
     "name": "stdout",
     "output_type": "stream",
     "text": [
      "False\n"
     ]
    }
   ],
   "source": [
    "def reverse(source):\n",
    "    dest = [0] * len(source)\n",
    "    i = 0\n",
    "    dest = len(source) - 1\n",
    "    while (i < len(source)):\n",
    "        dest[j] = source[i]\n",
    "        i = i+1\n",
    "        j = j+1\n",
    "    return dest\n",
    "source = [10,20,30,40,50]\n",
    "b = reverse(source)\n",
    "print(b)"
   ]
  }
 ],
 "metadata": {
  "kernelspec": {
   "display_name": "Python 3.10.2 64-bit",
   "language": "python",
   "name": "python3"
  },
  "language_info": {
   "codemirror_mode": {
    "name": "ipython",
    "version": 3
   },
   "file_extension": ".py",
   "mimetype": "text/x-python",
   "name": "python",
   "nbconvert_exporter": "python",
   "pygments_lexer": "ipython3",
   "version": "3.10.2"
  },
  "orig_nbformat": 4,
  "vscode": {
   "interpreter": {
    "hash": "85ea0ae677054c53cf21e68d261330ab66c6f14429a2f0a735acb351c04ea425"
   }
  }
 },
 "nbformat": 4,
 "nbformat_minor": 2
}
