{
 "cells": [
  {
   "cell_type": "code",
   "execution_count": 2,
   "metadata": {},
   "outputs": [
    {
     "name": "stdout",
     "output_type": "stream",
     "text": [
      "[10, 30, 50, 0, 0, 0, 0, 0, 0]\n"
     ]
    }
   ],
   "source": [
    "def removeAll(source, size, element):\n",
    "    for y in range(size):\n",
    "        for x in range(len(source)):\n",
    "            if source[x] == element:\n",
    "                for i in range(x, len(source)-1):\n",
    "                    source[i] = source[i+1]\n",
    "                    source[-1] = 0\n",
    "source=[10,2,30,2,50,2,2,0,0]\n",
    "removeAll(source,7,2)\n",
    "print(source)"
   ]
  }
 ],
 "metadata": {
  "kernelspec": {
   "display_name": "Python 3.9.7 ('base')",
   "language": "python",
   "name": "python3"
  },
  "language_info": {
   "codemirror_mode": {
    "name": "ipython",
    "version": 3
   },
   "file_extension": ".py",
   "mimetype": "text/x-python",
   "name": "python",
   "nbconvert_exporter": "python",
   "pygments_lexer": "ipython3",
   "version": "3.9.7"
  },
  "orig_nbformat": 4,
  "vscode": {
   "interpreter": {
    "hash": "be5e72e99da49e27160b8ed4de15fdacbdf90d4d335946f4fb88d161726f6f10"
   }
  }
 },
 "nbformat": 4,
 "nbformat_minor": 2
}
