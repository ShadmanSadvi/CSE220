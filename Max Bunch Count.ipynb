{
 "cells": [
  {
   "cell_type": "code",
   "execution_count": 4,
   "metadata": {},
   "outputs": [
    {
     "name": "stdout",
     "output_type": "stream",
     "text": [
      "4\n"
     ]
    }
   ],
   "source": [
    "def maxxBunchCount():\n",
    "    source = [1,1,2,2,1,1,1,1]\n",
    "    max = 0\n",
    "    count = 1\n",
    "    for x in range(len(source) - 1):\n",
    "        if source[x] == source[x+1]:\n",
    "            count += 1\n",
    "        elif source[x] != source[x+1]:\n",
    "            if max < count:\n",
    "                max = count\n",
    "            count = 1\n",
    "    if max <= count:\n",
    "        max = count\n",
    "    print(max)\n",
    "maxxBunchCount()     \n"
   ]
  }
 ],
 "metadata": {
  "kernelspec": {
   "display_name": "Python 3.10.2 64-bit",
   "language": "python",
   "name": "python3"
  },
  "language_info": {
   "codemirror_mode": {
    "name": "ipython",
    "version": 3
   },
   "file_extension": ".py",
   "mimetype": "text/x-python",
   "name": "python",
   "nbconvert_exporter": "python",
   "pygments_lexer": "ipython3",
   "version": "3.10.2"
  },
  "orig_nbformat": 4,
  "vscode": {
   "interpreter": {
    "hash": "85ea0ae677054c53cf21e68d261330ab66c6f14429a2f0a735acb351c04ea425"
   }
  }
 },
 "nbformat": 4,
 "nbformat_minor": 2
}
