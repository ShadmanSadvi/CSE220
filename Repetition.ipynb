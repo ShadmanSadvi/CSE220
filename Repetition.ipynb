{
 "cells": [
  {
   "cell_type": "code",
   "execution_count": 2,
   "metadata": {},
   "outputs": [
    {
     "name": "stdout",
     "output_type": "stream",
     "text": [
      "False\n"
     ]
    }
   ],
   "source": [
    "source = [3,4,6,3,4,7,4,6,8,6,6]\n",
    "array1 = [0] * len(source)\n",
    "for x in source:\n",
    "    array1[x] += 1\n",
    "y = 0\n",
    "for z in array1:\n",
    "    if z > 1:\n",
    "        y += 1\n",
    "array2 = [0] * y\n",
    "a = 0\n",
    "for z in array1:\n",
    "    if z > 1:\n",
    "        array2[a] = z\n",
    "        a += 1\n",
    "ans = False\n",
    "\n",
    "for m in range(len(array2)):\n",
    "    for n in range(len(array2)):\n",
    "        if m != n:\n",
    "            if array2[m] == array2[n]:\n",
    "                ans = True\n",
    "print(ans)\n"
   ]
  }
 ],
 "metadata": {
  "kernelspec": {
   "display_name": "Python 3.10.2 64-bit",
   "language": "python",
   "name": "python3"
  },
  "language_info": {
   "codemirror_mode": {
    "name": "ipython",
    "version": 3
   },
   "file_extension": ".py",
   "mimetype": "text/x-python",
   "name": "python",
   "nbconvert_exporter": "python",
   "pygments_lexer": "ipython3",
   "version": "3.10.2"
  },
  "orig_nbformat": 4,
  "vscode": {
   "interpreter": {
    "hash": "85ea0ae677054c53cf21e68d261330ab66c6f14429a2f0a735acb351c04ea425"
   }
  }
 },
 "nbformat": 4,
 "nbformat_minor": 2
}
